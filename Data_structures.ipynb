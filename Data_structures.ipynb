{
  "nbformat": 4,
  "nbformat_minor": 0,
  "metadata": {
    "colab": {
      "provenance": []
    },
    "kernelspec": {
      "name": "python3",
      "display_name": "Python 3"
    },
    "language_info": {
      "name": "python"
    }
  },
  "cells": [
    {
      "cell_type": "code",
      "execution_count": null,
      "metadata": {
        "id": "6MoHv3TgbQ1l"
      },
      "outputs": [],
      "source": []
    },
    {
      "cell_type": "markdown",
      "source": [
        "#**<h1><center>DATA STUCTURES ASSIGNMENT**\n",
        "\n",
        "---\n",
        "\n",
        "\n",
        "**Q.1 What are data structures, and why are they important?**\n",
        "- Data structure is a way of organizing data in the memory. There are multiple data structures in python are lists, tuples, sets and dictionary. Each data structure has its own unique way of storing data. It is also known as containers that store data according to its type. Data structure are important because they make code more efficient and easy to understand. Moreover, they classify data into certain groups and it becomes easier for user to choose the data structure which is best suitable for their data.\n",
        "\n",
        "**Q.2 Explain the difference between mutable and immutable data types with examples**\n",
        "- Python has two types of data types: mutable and immutable. Mutable data types are those whose values can be changed whereas immutable are those which cannot be changed after creation. Example Lists are mutable so we can add, remove and update any value in a list whereas tuple is immutable that means tuple element cannot be changed,added or removed after it is created.\n",
        "\n",
        "**Q.3 What are the main differences between lists and tuples in Python?**\n",
        "- The main difference between lists and tuples is that list is mutable or changeable and tuples are immutable or unchangeable. List elements can be modified after its creation but for tuple elements modification is not possible directly, one have to first convert tuple to other data type to change its value. Apart from this, tuple are memory efficient as they require less memory as compared to lists.\n",
        "\n",
        "**Q.4 Describe how dictionaries store data?**\n",
        "- Dictionaries store data in the form of key value pairs. Each key maps to a specific value and user can access the value by key. While values can be of any data type and can have duplicates, keys must be immutable and unique. Dictionaries are ordered and mutable data structures that is it can be modified after it is created.\n",
        "\n",
        "**Q.5 Why might you use a set instead of a list in Python?**\n",
        "- Programmers can use set when they donot need duplicate values or when they want to perform set operations like union, intersection and symmetric difference. Example to store roll number of students, we donot want to give same value to two students. Hence, using set is best option in that case as it will ensure that no two students have same number.\n",
        "\n",
        "**Q.6 What is a string in Python, and how is it different from a list?**\n",
        "- Strings are the sequence of characters in a specific manner. Strings are ordered, immutable and can have duplicate values. The difference between lists and string is that string is immutable whereas lists are mutable. Moreover, string stores sequence of characters enclosed in quotes '' wheras lists stores sequence of values enclosed in square brackets [].\n",
        "\n",
        "**Q.7  How do tuples ensure data integrity in Python?**\n",
        "- Tuples ensures data integrity as they are immutable which means they remain same in the whole program. Tuples cannot be modified after creation that is no element can be added, removed or changed. This nature of tuple allows them to be keys of dictionaries and elements in sets.\n",
        "\n",
        "**Q.8 What is a hash table, and how does it relate to dictionaries in Python?**\n",
        "- Hash table is a data structure in which each element is assigned with a unique value and through this key, value is accessed. It is like maping of key to values. In python, dictionary is the built-in implementation of hash tables and keys satisfy all the conditions and is hashable. Hence, hash table is named as dictionary in python.\n",
        "\n",
        "**Q.9 Can lists contain different data types in Python?**\n",
        "- Yes, lists can store hetrogenous data which can be of any data type whether it is mutable or immutable, iterable or not iterable, ordered or unordered.\n",
        "Example lists can have tuple, dictionary, string and set as elements.\n",
        "\n",
        "**Q.10 Explain why strings are immutable in Python?**\n",
        "- Strings are immutable in python because we cannot change or modify any individual character of that string. We can assign another value to the string but changing individual character is not possible.\n",
        "\n",
        "**Q.11 What advantages do dictionaries offer over lists for certain tasks?**\n",
        "- It is more convenient to access data in case of dictionaries than lists as accessing element using numberic indexs arise confusion especially when we have huge amount of data. Hence, when we want to work with big data dictionaries are more suitable than lists.\n",
        "\n",
        "**Q.12 Describe a scenario where using a tuple would be preferable over a list.**\n",
        "- Tuple is preferrable when we donot want to change the data. An epitome of this is when we want to store employee ids, as every person has unique id and no two employee should have same ids. Hence, tuples are best to store these types of data. Moreover, tuple are fast and memory efficient so they can handle large amount of data efficiently.\n",
        "\n",
        "**Q.13 How do sets handle duplicate values in Python.**\n",
        "- Sets donot allow duplicate values, it donot add element if it is already present ensuring unique values in the variable. However, order of elements is lost when we use set.\n",
        "\n",
        "**Q.14 How does the “in” keyword work differently for lists and dictionaries.**\n",
        "- 'in' keyword tells if a particular element is present or not. In case of list it searches the given element in the list, if it is present it returns True otherwise it returns False. However, in dictionary 'in' keyword searches the particular key. If the given element is present as a key in dictionary it returns True else it returns False.\n",
        "\n",
        "**Q.15 Can you modify the elements of a tuple? Explain why or why not.**\n",
        "- We cannot modify the elements of tuple directly as tuple is immutable. So, it cannot be changed after it is created. But if it is necessary to change any element in tuple, one must first convert into another data type which is mutable like list then make changes. Once we update it we can again convert that list to tuple.\n",
        "\n",
        "**Q.16 What is a nested dictionary, and give an example of its use case.**\n",
        "- Nested dictionary means dictionary within dictionary. So, in nested dictionary values are also dictionaries. We need nested dictionary when we need to organize complex or heirarchial data. One of the famous use case of nested dictionary is when we represent a family details. Firstly, people are keys of dictionary and in values we again give dictionary showing properties like height, weight.\n",
        "\n",
        "Example:\n",
        "\n",
        "\n",
        "```\n",
        "dict1={\n",
        "    \"Shubh\": {'age':21, 'height':160},\n",
        "    \"ishank\":{'age':22,'height':175}\n",
        "}\n",
        "\n",
        "```\n",
        "\n",
        "\n",
        "\n",
        "**Q.17 Describe the time complexity of accessing elements in a dictionary.**\n",
        "- The time complexity of accessing elements in dictionary is constant i.e. O(1). It is because dictionary is an implementation of hash table which works on a relative address.\n",
        "\n",
        "**Q.18 In what situations are lists preferred over dictionaries?**\n",
        "- Lists are easier to access and to modify as it are accessed by numeric indexs.So, to impliment data structures like stack or queue lists are beneficial as it is convenient to add and remove elements from a list.\n",
        "\n",
        "**Q.19 Why are dictionaries considered unordered, and how does that affect data retrieval?**\n",
        "- Latest versions of dictionaries are ordered but earlier dictionaries were unordered. They effected data retrieval as the order in which key-value pairs were added were not the same in which they were retrieved. Also, everytime we printed dictionary it gave different order of the elements.\n",
        "\n",
        "**Q.20 Explain the difference between a list and a dictionary in terms of data retrieval.**\n",
        "- In case of list we can access elements using indexes whereas in dictionaries values are retrieve either by using keys or by get function.\n",
        "\n",
        "Example :\n",
        "\n",
        "\n",
        "```\n",
        "L=[1,2,3]\n",
        "L[1] #This is how list elements are accessed\n",
        "dict1={\n",
        "    \"Shubh\": {'age':21, 'height':160},\n",
        "    \"ishank\":{'age':22,'height':175}\n",
        "}\n",
        "# To retrieve dictionary elements\n",
        "dict1['Shubh']\n",
        "dict1.get('Shubh')\n",
        "```\n",
        "\n",
        "\n"
      ],
      "metadata": {
        "id": "NWPiJJz_bTjJ"
      }
    },
    {
      "cell_type": "code",
      "source": [
        "# 1. Write a code to create a string with your name and print it.\n",
        "name=\"Shubhpreet Kaur\"\n",
        "print(f'My Name is {name}')"
      ],
      "metadata": {
        "colab": {
          "base_uri": "https://localhost:8080/"
        },
        "id": "oB_8n_AR1uVT",
        "outputId": "ef6aa736-deca-4b7f-f203-25ac425cbd7a"
      },
      "execution_count": 2,
      "outputs": [
        {
          "output_type": "stream",
          "name": "stdout",
          "text": [
            "My Name is Shubhpreet Kaur\n"
          ]
        }
      ]
    },
    {
      "cell_type": "code",
      "source": [
        "# 2. Write a code to find the length of the string \"Hello World\".\n",
        "print(len('Hello World'))"
      ],
      "metadata": {
        "colab": {
          "base_uri": "https://localhost:8080/"
        },
        "id": "FikCSM8-2Bge",
        "outputId": "53287f8e-1d22-496b-819e-f2de6872a6a2"
      },
      "execution_count": 3,
      "outputs": [
        {
          "output_type": "stream",
          "name": "stdout",
          "text": [
            "11\n"
          ]
        }
      ]
    },
    {
      "cell_type": "code",
      "source": [
        "# 3. Write a code to slice the first 3 characters from the string \"Python Programming\".\n",
        "str = \"Python Programming\"\n",
        "sliced_str= str[0:3] # 3 is not included, only 0 to 2 index values are stored\n",
        "print(sliced_str)"
      ],
      "metadata": {
        "colab": {
          "base_uri": "https://localhost:8080/"
        },
        "id": "pQ5vNh1x2QXS",
        "outputId": "644967ef-41dc-4f81-a246-88b61580f9e0"
      },
      "execution_count": 5,
      "outputs": [
        {
          "output_type": "stream",
          "name": "stdout",
          "text": [
            "Pyt\n"
          ]
        }
      ]
    },
    {
      "cell_type": "code",
      "source": [
        "# 4. Write a code to convert the string \"hello\" to uppercase\n",
        "str2=\"hello\"\n",
        "print(str2.upper())"
      ],
      "metadata": {
        "colab": {
          "base_uri": "https://localhost:8080/"
        },
        "id": "x8RyHhuz2q3y",
        "outputId": "a08176c7-4108-4549-d936-d36e1ab6770d"
      },
      "execution_count": 6,
      "outputs": [
        {
          "output_type": "stream",
          "name": "stdout",
          "text": [
            "HELLO\n"
          ]
        }
      ]
    },
    {
      "cell_type": "code",
      "source": [
        "# 5. Write a code to replace the word \"apple\" with \"orange\" in the string \"I like apple\".\n",
        "str3=\"I like apple\"\n",
        "print(str3.replace(\"apple\",\"orange\"))"
      ],
      "metadata": {
        "colab": {
          "base_uri": "https://localhost:8080/"
        },
        "id": "KfOTL8pR2_oU",
        "outputId": "bb46419b-e967-4083-fc81-a0654b55e8da"
      },
      "execution_count": 8,
      "outputs": [
        {
          "output_type": "stream",
          "name": "stdout",
          "text": [
            "I like orange\n"
          ]
        }
      ]
    },
    {
      "cell_type": "code",
      "source": [
        "# 6. Write a code to create a list with numbers 1 to 5 and print it.\n",
        "list1=[1,2,3,4,5]\n",
        "print(list1)"
      ],
      "metadata": {
        "colab": {
          "base_uri": "https://localhost:8080/"
        },
        "id": "P3IzzIoj3yzM",
        "outputId": "3ae02742-6006-44a0-9dd1-240e0df4e18f"
      },
      "execution_count": 9,
      "outputs": [
        {
          "output_type": "stream",
          "name": "stdout",
          "text": [
            "[1, 2, 3, 4, 5]\n"
          ]
        }
      ]
    },
    {
      "cell_type": "code",
      "source": [
        "# 7. Write a code to append the number 10 to the list [1, 2, 3, 4].\n",
        "list2=[1,2,3,4]\n",
        "list2.append(10)\n",
        "print(list2)"
      ],
      "metadata": {
        "colab": {
          "base_uri": "https://localhost:8080/"
        },
        "id": "lPKzr0XP4Fts",
        "outputId": "4ad3287d-5e37-44b1-a427-0e9070f0c095"
      },
      "execution_count": 10,
      "outputs": [
        {
          "output_type": "stream",
          "name": "stdout",
          "text": [
            "[1, 2, 3, 4, 10]\n"
          ]
        }
      ]
    },
    {
      "cell_type": "code",
      "source": [
        "# 8. Write a code to remove the number 3 from the list [1, 2, 3, 4, 5]\n",
        "list3=[1,2,3,4,5]\n",
        "list3.remove(3)\n",
        "print(list3)"
      ],
      "metadata": {
        "colab": {
          "base_uri": "https://localhost:8080/"
        },
        "id": "Q7oW83Nw4UjL",
        "outputId": "bc686a28-d54c-45c6-832f-87572e35b385"
      },
      "execution_count": 11,
      "outputs": [
        {
          "output_type": "stream",
          "name": "stdout",
          "text": [
            "[1, 2, 4, 5]\n"
          ]
        }
      ]
    },
    {
      "cell_type": "code",
      "source": [
        "# 9. Write a code to access the second element in the list ['a', 'b', 'c', 'd']\n",
        "list4=['a','b','c','d']\n",
        "print(list4[1])"
      ],
      "metadata": {
        "colab": {
          "base_uri": "https://localhost:8080/"
        },
        "id": "aBDiKbfM4kRE",
        "outputId": "dfe9be6a-854f-4b5e-f6e2-02ba0f13a1ec"
      },
      "execution_count": 12,
      "outputs": [
        {
          "output_type": "stream",
          "name": "stdout",
          "text": [
            "b\n"
          ]
        }
      ]
    },
    {
      "cell_type": "code",
      "source": [
        "# 10. Write a code to reverse the list [10, 20, 30, 40, 50]\n",
        "list5=[10, 20, 30, 40, 50]\n",
        "print(list5[::-1])"
      ],
      "metadata": {
        "colab": {
          "base_uri": "https://localhost:8080/"
        },
        "id": "ZeN7sehp5A5-",
        "outputId": "64e8bea6-6b31-4be9-c809-ce042227290a"
      },
      "execution_count": 13,
      "outputs": [
        {
          "output_type": "stream",
          "name": "stdout",
          "text": [
            "[50, 40, 30, 20, 10]\n"
          ]
        }
      ]
    },
    {
      "cell_type": "code",
      "source": [
        "# 11. Write a code to create a tuple with the elements 100, 200, 300 and print it\n",
        "tuple1=(100,200,300)\n",
        "print(tuple1)"
      ],
      "metadata": {
        "colab": {
          "base_uri": "https://localhost:8080/"
        },
        "id": "gC6x64SG5gz-",
        "outputId": "c6d1c5f3-71da-4114-80c8-9a0af7c45177"
      },
      "execution_count": 14,
      "outputs": [
        {
          "output_type": "stream",
          "name": "stdout",
          "text": [
            "(100, 200, 300)\n"
          ]
        }
      ]
    },
    {
      "cell_type": "code",
      "source": [
        "# 12. Write a code to access the second-to-last element of the tuple ('red', 'green', 'blue', 'yellow').\n",
        "tuple2=('red', 'green', 'blue', 'yellow')\n",
        "print(tuple2[1:])"
      ],
      "metadata": {
        "colab": {
          "base_uri": "https://localhost:8080/"
        },
        "id": "eAwk9XyT5ung",
        "outputId": "54c85cd8-4091-41a8-bb9f-7fb7ad28d23c"
      },
      "execution_count": 15,
      "outputs": [
        {
          "output_type": "stream",
          "name": "stdout",
          "text": [
            "('green', 'blue', 'yellow')\n"
          ]
        }
      ]
    },
    {
      "cell_type": "code",
      "source": [
        "# 13. Write a code to find the minimum number in the tuple (10, 20, 5, 15)\n",
        "tuple3=(10, 20, 5, 15)\n",
        "print(min(tuple3))"
      ],
      "metadata": {
        "colab": {
          "base_uri": "https://localhost:8080/"
        },
        "id": "HpRveiEM566V",
        "outputId": "47e90265-15a5-4fa0-f476-b345f7c8d378"
      },
      "execution_count": 16,
      "outputs": [
        {
          "output_type": "stream",
          "name": "stdout",
          "text": [
            "5\n"
          ]
        }
      ]
    },
    {
      "cell_type": "code",
      "source": [
        "# 14. Write a code to find the index of the element \"cat\" in the tuple ('dog', 'cat', 'rabbit')\n",
        "tuple4=('dog', 'cat', 'rabbit')\n",
        "tuple4.index('cat')"
      ],
      "metadata": {
        "colab": {
          "base_uri": "https://localhost:8080/"
        },
        "id": "ZRmagyg56FQZ",
        "outputId": "d619d206-8eb3-40ea-947b-e2e33e5a54bf"
      },
      "execution_count": 17,
      "outputs": [
        {
          "output_type": "execute_result",
          "data": {
            "text/plain": [
              "1"
            ]
          },
          "metadata": {},
          "execution_count": 17
        }
      ]
    },
    {
      "cell_type": "code",
      "source": [
        "# 15. Write a code to create a tuple containing three different fruits and check if \"kiwi\" is in it\n",
        "tuple5=('apple','mango','orange')\n",
        "print('kiwi' in tuple5)"
      ],
      "metadata": {
        "colab": {
          "base_uri": "https://localhost:8080/"
        },
        "id": "fasHiYLp6Yx6",
        "outputId": "83d7a9ed-34eb-406a-a1eb-4c7bb5962e4d"
      },
      "execution_count": 19,
      "outputs": [
        {
          "output_type": "stream",
          "name": "stdout",
          "text": [
            "True\n"
          ]
        }
      ]
    },
    {
      "cell_type": "code",
      "source": [
        "# 16. Write a code to create a set with the elements 'a', 'b', 'c' and print it\n",
        "set1={'a','b','c'}\n",
        "print(set1)"
      ],
      "metadata": {
        "colab": {
          "base_uri": "https://localhost:8080/"
        },
        "id": "PF3Thx1t6p0d",
        "outputId": "2637093b-796a-4f70-992e-0e519e8b8166"
      },
      "execution_count": 20,
      "outputs": [
        {
          "output_type": "stream",
          "name": "stdout",
          "text": [
            "{'c', 'a', 'b'}\n"
          ]
        }
      ]
    },
    {
      "cell_type": "code",
      "source": [
        "# 17. Write a code to clear all elements from the set {1, 2, 3, 4, 5}\n",
        "set2={1, 2, 3, 4, 5}\n",
        "set2.clear()\n",
        "print(set2)"
      ],
      "metadata": {
        "colab": {
          "base_uri": "https://localhost:8080/"
        },
        "id": "gxhLSmrk7CmT",
        "outputId": "5cc59ff4-d1f4-44ae-d65e-9b7a2b9fbeae"
      },
      "execution_count": 22,
      "outputs": [
        {
          "output_type": "stream",
          "name": "stdout",
          "text": [
            "set()\n"
          ]
        }
      ]
    },
    {
      "cell_type": "code",
      "source": [
        "# 18. Write a code to remove the element 4 from the set {1, 2, 3, 4}\n",
        "set3={1,2,3,4}\n",
        "set3.remove(4)\n",
        "print(set3)"
      ],
      "metadata": {
        "colab": {
          "base_uri": "https://localhost:8080/"
        },
        "id": "krIoiywi7MYY",
        "outputId": "ef138835-5176-45c2-d8c5-12bfd662c460"
      },
      "execution_count": 24,
      "outputs": [
        {
          "output_type": "stream",
          "name": "stdout",
          "text": [
            "{1, 2, 3}\n"
          ]
        }
      ]
    },
    {
      "cell_type": "code",
      "source": [
        "# 19. Write a code to find the union of two sets {1, 2, 3} and {3, 4, 5}\n",
        "set4={1,2,3}\n",
        "set5={3,4,5}\n",
        "print(set4.union(set5))"
      ],
      "metadata": {
        "colab": {
          "base_uri": "https://localhost:8080/"
        },
        "id": "XGcW5yUB7Z7N",
        "outputId": "a6d52723-a463-489a-c00d-91ffa352677e"
      },
      "execution_count": 25,
      "outputs": [
        {
          "output_type": "stream",
          "name": "stdout",
          "text": [
            "{1, 2, 3, 4, 5}\n"
          ]
        }
      ]
    },
    {
      "cell_type": "code",
      "source": [
        "# 20. Write a code to find the intersection of two sets {1, 2, 3} and {2, 3, 4}\n",
        "set6={1,2,3}\n",
        "set7={2,3,4}\n",
        "print(set6.intersection(set7))"
      ],
      "metadata": {
        "colab": {
          "base_uri": "https://localhost:8080/"
        },
        "id": "OHFkeV8r7tdo",
        "outputId": "07ed4858-5929-4a02-e752-250a5ed8a9bd"
      },
      "execution_count": 26,
      "outputs": [
        {
          "output_type": "stream",
          "name": "stdout",
          "text": [
            "{2, 3}\n"
          ]
        }
      ]
    },
    {
      "cell_type": "code",
      "source": [
        "# 21. Write a code to create a dictionary with the keys \"name\", \"age\", and \"city\", and print it.\n",
        "dict1={\"name\":\"Shubh\",\"age\":21,\"city\":\"Sunam\"}\n",
        "print(dict1)"
      ],
      "metadata": {
        "colab": {
          "base_uri": "https://localhost:8080/"
        },
        "id": "Q3vakC_r7-xB",
        "outputId": "c7263ece-0081-42f1-a3fe-ac929c8e0bcd"
      },
      "execution_count": 28,
      "outputs": [
        {
          "output_type": "stream",
          "name": "stdout",
          "text": [
            "{'name': 'Shubh', 'age': 21, 'city': 'Sunam'}\n"
          ]
        }
      ]
    },
    {
      "cell_type": "code",
      "source": [
        "# 22. Write a code to add a new key-value pair \"country\": \"USA\" to the dictionary {'name': 'John', 'age': 25}.\n",
        "dict2={'name': 'John', 'age': 25}\n",
        "dict2['country']='USA'\n",
        "print(dict2)"
      ],
      "metadata": {
        "colab": {
          "base_uri": "https://localhost:8080/"
        },
        "id": "X5MnhAOy8Ojx",
        "outputId": "06f90e33-dfe7-424e-b276-290b416fe736"
      },
      "execution_count": 29,
      "outputs": [
        {
          "output_type": "stream",
          "name": "stdout",
          "text": [
            "{'name': 'John', 'age': 25, 'country': 'USA'}\n"
          ]
        }
      ]
    },
    {
      "cell_type": "code",
      "source": [
        "# 23. Write a code to access the value associated with the key \"name\" in the dictionary {'name': 'Alice', 'age': 30}.\n",
        "dict3={'name': 'Alice', 'age': 30}\n",
        "print(dict3['name'])"
      ],
      "metadata": {
        "colab": {
          "base_uri": "https://localhost:8080/"
        },
        "id": "cx9s9g-u8kDY",
        "outputId": "2b78bc1b-bb00-41e1-931c-0caaf7b0fd71"
      },
      "execution_count": 30,
      "outputs": [
        {
          "output_type": "stream",
          "name": "stdout",
          "text": [
            "Alice\n"
          ]
        }
      ]
    },
    {
      "cell_type": "code",
      "source": [
        "# 24. Write a code to remove the key \"age\" from the dictionary {'name': 'Bob', 'age': 22, 'city': 'New York'}\n",
        "dict4={'name': 'Bob', 'age': 22, 'city': 'New York'}\n",
        "dict4.pop('age')\n",
        "print(dict4)"
      ],
      "metadata": {
        "colab": {
          "base_uri": "https://localhost:8080/"
        },
        "id": "GyYtLMNI8zJI",
        "outputId": "afd3239e-2174-44fd-d9f9-71545bb65dbe"
      },
      "execution_count": 33,
      "outputs": [
        {
          "output_type": "stream",
          "name": "stdout",
          "text": [
            "{'name': 'Bob', 'city': 'New York'}\n"
          ]
        }
      ]
    },
    {
      "cell_type": "code",
      "source": [
        "# 25. Write a code to check if the key \"city\" exists in the dictionary {'name': 'Alice', 'city': 'Paris'}.\n",
        "dict5={'name': 'Alice', 'city': 'Paris'}\n",
        "print('city' in dict5)"
      ],
      "metadata": {
        "colab": {
          "base_uri": "https://localhost:8080/"
        },
        "id": "k_K3cGnf9d4w",
        "outputId": "b19851ba-ed2b-4d00-af77-20b1133a96e1"
      },
      "execution_count": 34,
      "outputs": [
        {
          "output_type": "stream",
          "name": "stdout",
          "text": [
            "True\n"
          ]
        }
      ]
    },
    {
      "cell_type": "code",
      "source": [
        "# 26. Write a code to create a list, a tuple, and a dictionary, and print them all.\n",
        "list_=[1,2,3,4,5]\n",
        "tuple_=('shubh','ishank','navu')\n",
        "dict_={\"name\":\"Shubh\",\"age\":21,\"city\":\"Sunam\"}\n",
        "print(\"List is \",list_)\n",
        "print(\"Tuple is \",tuple_)\n",
        "print(\"Dictionary is \",dict_)"
      ],
      "metadata": {
        "colab": {
          "base_uri": "https://localhost:8080/"
        },
        "id": "3jOetL18-8y1",
        "outputId": "e4565348-29f8-4658-a154-6f6f626c46f9"
      },
      "execution_count": 37,
      "outputs": [
        {
          "output_type": "stream",
          "name": "stdout",
          "text": [
            "List is  [1, 2, 3, 4, 5]\n",
            "Tuple is  ('shubh', 'ishank', 'navu')\n",
            "Dictionary is  {'name': 'Shubh', 'age': 21, 'city': 'Sunam'}\n"
          ]
        }
      ]
    },
    {
      "cell_type": "code",
      "source": [
        "# 27. Write a code to create a list of 5 random numbers between 1 and 100, sort it in ascending order,\n",
        "# and print the result.(replaced)\n",
        "import random\n",
        "num=[]\n",
        "for i in range(5):\n",
        "  num.append(random.randint(1,100))\n",
        "print('Original List',num)\n",
        "num.sort()\n",
        "print('Sorted List',num)"
      ],
      "metadata": {
        "colab": {
          "base_uri": "https://localhost:8080/"
        },
        "id": "9egXWpnb_oAE",
        "outputId": "7ab048c7-43ca-4672-ace0-e7120afcb688"
      },
      "execution_count": 47,
      "outputs": [
        {
          "output_type": "stream",
          "name": "stdout",
          "text": [
            "Original List [99, 18, 52, 6, 83]\n",
            "Sorted List [6, 18, 52, 83, 99]\n"
          ]
        }
      ]
    },
    {
      "cell_type": "code",
      "source": [
        "# 28. Write a code to create a list with strings and print the element at the third index\n",
        "list6=[\"apple\",\"orange\",\"grape\",\"banana\",\"guava\"]\n",
        "print(list6[3])"
      ],
      "metadata": {
        "colab": {
          "base_uri": "https://localhost:8080/"
        },
        "id": "3pXh7hAOAioM",
        "outputId": "472575b2-2b86-47de-889c-25f1a268a4ca"
      },
      "execution_count": 48,
      "outputs": [
        {
          "output_type": "stream",
          "name": "stdout",
          "text": [
            "banana\n"
          ]
        }
      ]
    },
    {
      "cell_type": "code",
      "source": [
        "# 29. Write a code to combine two dictionaries into one and print the result\n",
        "d1={\"name\":\"Shubh\",\"age\":21,\"city\":\"Sunam\"}\n",
        "d2={'fruit': 'apple', 'color': 'red', 'number': 1}\n",
        "d1.update(d2)\n",
        "print(d1)"
      ],
      "metadata": {
        "colab": {
          "base_uri": "https://localhost:8080/"
        },
        "id": "karAGN-sBqFZ",
        "outputId": "717e2085-fe76-4114-a97f-f4292f72ce26"
      },
      "execution_count": 63,
      "outputs": [
        {
          "output_type": "stream",
          "name": "stdout",
          "text": [
            "{'name': 'Shubh', 'age': 21, 'city': 'Sunam', 'fruit': 'apple', 'color': 'red', 'number': 1}\n"
          ]
        }
      ]
    },
    {
      "cell_type": "code",
      "source": [
        "# 30. Write a code to convert a list of strings into a set.\n",
        "list7=[\"apple\",\"orange\",\"grape\",\"banana\",\"grape\"]\n",
        "list7=set(list7)\n",
        "print(list7)"
      ],
      "metadata": {
        "colab": {
          "base_uri": "https://localhost:8080/"
        },
        "id": "ltquWq5ZB-Lp",
        "outputId": "867474b7-1346-4ee8-bb1c-8843712e63ba"
      },
      "execution_count": 66,
      "outputs": [
        {
          "output_type": "stream",
          "name": "stdout",
          "text": [
            "{'banana', 'orange', 'apple', 'grape'}\n"
          ]
        }
      ]
    },
    {
      "cell_type": "code",
      "source": [],
      "metadata": {
        "id": "3nERVT0qDzgH"
      },
      "execution_count": null,
      "outputs": []
    }
  ]
}